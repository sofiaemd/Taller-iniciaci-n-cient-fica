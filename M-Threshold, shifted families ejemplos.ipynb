{
 "cells": [
  {
   "cell_type": "markdown",
   "metadata": {},
   "source": [
    "Definición poset"
   ]
  },
  {
   "cell_type": "code",
   "execution_count": 3,
   "metadata": {},
   "outputs": [],
   "source": [
    "def generar_poset(ELEMENTOS,CARD_CONJ):\n",
    "    covers=dict()\n",
    "    familia=[tuple(sorted(conj)) for conj in Subsets(ELEMENTOS, CARD_CONJ)]\n",
    "    for conj in familia:\n",
    "        cov=[]\n",
    "        for i in range(CARD_CONJ):\n",
    "            agregar=tuple([conj[j] if i!= j else conj[j]+1 for j in range(CARD_CONJ)])\n",
    "            if agregar in familia:\n",
    "                cov.append(agregar)\n",
    "        covers[conj]=cov\n",
    "    return Poset(covers)"
   ]
  },
  {
   "cell_type": "markdown",
   "metadata": {},
   "source": [
    "Encontrar ideales y tuplas minimales"
   ]
  },
  {
   "cell_type": "code",
   "execution_count": 4,
   "metadata": {},
   "outputs": [],
   "source": [
    "def encontrar_min(GENERADORES,P):\n",
    "    ideal_gen = P.order_ideal(GENERADORES)\n",
    "    gen_ideal_cont=[]\n",
    "    for i in range(len(GENERADORES[0])):\n",
    "        e= max(t[i] for t in GENERADORES)\n",
    "        gen_ideal_cont.append(e)\n",
    "    ideal_cont = P.order_ideal([tuple(gen_ideal_cont)])\n",
    "    elem_min=[]\n",
    "    for conj in ideal_cont:\n",
    "        if not(conj in ideal_gen):\n",
    "            minimal =True\n",
    "            for e in P.lower_covers(conj):\n",
    "                if not(e in ideal_gen):\n",
    "                    minimal=False\n",
    "            if minimal:\n",
    "                elem_min.append(conj)\n",
    "    return elem_min"
   ]
  },
  {
   "cell_type": "markdown",
   "metadata": {},
   "source": [
    "Generar cono en el que elementos minimales son mayores que los generadores"
   ]
  },
  {
   "cell_type": "code",
   "execution_count": 5,
   "metadata": {},
   "outputs": [],
   "source": [
    "def generar_cono(ELEMENTOS,GENERADORES, elem_min):   \n",
    "    desigualdades=[]\n",
    "    for conj_max in GENERADORES:\n",
    "        for conj_min in elem_min:\n",
    "            pos=[1 if i in conj_min else 0 for i in range(ELEMENTOS+1)]\n",
    "            neg=[-1 if i in conj_max else 0 for i in range(ELEMENTOS+1)]\n",
    "            res=tuple([pos[i]+neg[i]for i in range(ELEMENTOS+1)])\n",
    "            desigualdades.append(res)\n",
    "    for i in range(1,ELEMENTOS):\n",
    "        desigualdades.append(tuple([-1 if i==j else 1 if i+1==j else 0 for j in range(ELEMENTOS+1)]))\n",
    "    return Polyhedron(ieqs=desigualdades)"
   ]
  },
  {
   "cell_type": "markdown",
   "metadata": {},
   "source": [
    "Función que recibe poset y cantidad de generadores y devuelve anticadenas del largo correspondiente"
   ]
  },
  {
   "cell_type": "code",
   "execution_count": 6,
   "metadata": {},
   "outputs": [],
   "source": [
    "def generadores_ideales(P,CANT_GEN):\n",
    "    gens_pos=[]\n",
    "    for conj in Subsets(P.list(), CANT_GEN):\n",
    "        if P.is_antichain_of_poset(conj):\n",
    "            gens_pos.append(conj)\n",
    "    return gens_pos"
   ]
  },
  {
   "cell_type": "markdown",
   "metadata": {},
   "source": [
    "Función que recibe un poset y devuelve una lista de las tuplas de grado maximal"
   ]
  },
  {
   "cell_type": "code",
   "execution_count": 23,
   "metadata": {},
   "outputs": [
    {
     "name": "stdout",
     "output_type": "stream",
     "text": [
      "dict 1 listo con 85 llaves\n",
      "False\n"
     ]
    }
   ],
   "source": [
    "from operator import countOf\n",
    "from collections import defaultdict\n",
    "from copy import deepcopy\n",
    "\n",
    "def menor_que(menor, mayor):\n",
    "    #return True si menor es menor que mayor, sino, devuelve False\n",
    "    if menor==mayor:\n",
    "        return False\n",
    "    for i in range(len(menor)):\n",
    "        if sum(menor[:i])>sum(mayor[:i]):\n",
    "            return False\n",
    "    return True\n",
    "\n",
    "def calcular_grado(P,generadores, ELEMENTOS):\n",
    "    ideal = P.order_ideal(generadores)\n",
    "    lista_elementos = [e for conj in ideal for e in conj]\n",
    "    grado = tuple([countOf(lista_elementos,i+1) for i in range(ELEMENTOS)])\n",
    "    return len(ideal), grado\n",
    "\n",
    "def degree_max(P,ELEMENTOS):\n",
    "    dict_grados = defaultdict(set)\n",
    "    anticadenas = P.antichains()\n",
    "    for anticad in anticadenas:\n",
    "#         print(anticad)\n",
    "        cant_elementos, grado = calcular_grado(P,anticad,ELEMENTOS)\n",
    "        dict_grados[cant_elementos].add(grado)\n",
    "    dict_degree_max = deepcopy(dict_grados)\n",
    "#     print(f'dict 1 listo con {len(dict_grados.keys())} llaves')\n",
    "    for i in dict_grados.keys():\n",
    "#         print(i)\n",
    "        for sec_grado in dict_grados[i]:\n",
    "            no_eliminado=True\n",
    "            for otra_sec in dict_grados[i]:\n",
    "                if no_eliminado and menor_que(sec_grado,otra_sec):\n",
    "#                     if sec_grado in [(23,19,16,16,12,10,10,7,4),(22,18,18,15,15,12,11,6,3),(23,20,18,18,15,12,11,7,5),(23,16,16,12,12,12,7,7,3),\n",
    "#                                     (23,18,18,15,15,12,12,7,3),(24,19,16,15,11,11,8,8,5),(24,20,18,16,13,11,11,8,5),(24,19,16,16,12,12,8,8,5),\n",
    "#                                     (24,20,18,18,15,12,12,8,5)]:\n",
    "#                         print(sec_grado,otra_sec)\n",
    "                    dict_degree_max[i].remove(sec_grado)\n",
    "                    no_eliminado=False\n",
    "    print(dict_grados==dict_degree_max)\n",
    "    return dict_degree_max\n",
    "    \n",
    "P=generar_poset(9,3)\n",
    "dict_grados=degree_max(P,9)"
   ]
  },
  {
   "cell_type": "markdown",
   "metadata": {},
   "source": [
    "Función recibe cantidad de elementos, cardinalidad de conjuntos y conatidad de generadores. El output son los generadores que no son M-threshold en una lista de tuplas (generadores, # de repeticiones)"
   ]
  },
  {
   "cell_type": "code",
   "execution_count": 24,
   "metadata": {},
   "outputs": [],
   "source": [
    "import random\n",
    "from operator import countOf\n",
    "\n",
    "def experimentos(ELEMENTOS,CARD_CONJ, CANT_GEN):\n",
    "    datos=[['Generadores', 'dimensión cono', 'Cantidad de igualdades en rayos']]\n",
    "    P=generar_poset(ELEMENTOS,CARD_CONJ)\n",
    "    gens_pos = generadores_ideales(P,CANT_GEN)\n",
    "    gens_interesantes=[]\n",
    "    for gen in gens_pos:\n",
    "        elem_min = encontrar_min(gen,P)\n",
    "        cono = generar_cono(ELEMENTOS, gen, elem_min)\n",
    "        \n",
    "        #COMENTAR DESDE AQUÍ PARA OBTENER TABLA CON TODOS LOS DATOS        \n",
    "        elemento_cono=sum([random.randint(1,100)*vector(rayo) for rayo in cono.rays()])\n",
    "        prod_pto_gen = [sum([elemento_cono[i-1] for i in e]) for e in gen]\n",
    "        prod_pto_min = [sum([elemento_cono[i-1] for i in e]) for e in elem_min]\n",
    "        minimo = min(prod_pto_min)\n",
    "        repeticiones1 = countOf(prod_pto_gen+prod_pto_min, minimo)\n",
    "        \n",
    "        elemento_cono=sum([random.randint(1,100)*vector(rayo) for rayo in cono.rays()])\n",
    "        prod_pto_gen = [sum([elemento_cono[i-1] for i in e]) for e in gen]\n",
    "        prod_pto_min = [sum([elemento_cono[i-1] for i in e]) for e in elem_min]\n",
    "        minimo = min(prod_pto_min)\n",
    "        repeticiones2 = countOf(prod_pto_gen+prod_pto_min, minimo)\n",
    "        \n",
    "        repeticiones=min(repeticiones1,repeticiones2)\n",
    "        if repeticiones > 1:\n",
    "            gens_interesantes.append((gen, repeticiones))\n",
    "    return gens_interesantes\n",
    "\n",
    "#DESCOMENTAR PARA QUE EL OUTPUT SEA LA TABLA DE TODOS LOS DATOS\n",
    "#         repeticiones = len(elem_min)+len(gen)\n",
    "#         for rayo in cono.rays():\n",
    "#             prod_pto_gen = [sum([rayo[i-1] for i in e]) for e in gen]\n",
    "#             prod_pto_min = [sum([rayo[i-1] for i in e]) for e in elem_min]\n",
    "#             minimo = min(prod_pto_min)\n",
    "#             repeticiones = min(repeticiones, countOf(prod_pto_gen+prod_pto_min, minimo))\n",
    "#         datos.append([gen, cono.dim(), repeticiones])\n",
    "#     return table(datos, header_row=True)"
   ]
  },
  {
   "cell_type": "markdown",
   "metadata": {},
   "source": [
    "Corre experimentos e imprime tabla con generadores de conjuntos no M-threshold e info del cono"
   ]
  },
  {
   "cell_type": "code",
   "execution_count": 25,
   "metadata": {},
   "outputs": [
    {
     "name": "stdout",
     "output_type": "stream",
     "text": [
      "[({(2, 6, 7), (3, 4, 8), (1, 5, 9)}, 6), ({(4, 5, 7), (2, 3, 9), (1, 6, 8)}, 6), ({(3, 5, 7), (2, 4, 9), (1, 6, 8)}, 6), ({(2, 4, 9), (4, 5, 7), (1, 6, 8)}, 6), ({(4, 5, 6), (2, 3, 9), (1, 7, 8)}, 5), ({(4, 5, 7), (2, 3, 9), (1, 7, 8)}, 6), ({(2, 4, 9), (3, 5, 6), (1, 7, 8)}, 6), ({(2, 4, 9), (3, 5, 7), (1, 7, 8)}, 6), ({(2, 4, 9), (4, 5, 6), (1, 7, 8)}, 6), ({(2, 4, 9), (4, 5, 7), (1, 7, 8)}, 6)]\n"
     ]
    }
   ],
   "source": [
    "ELEMENTOS = 9\n",
    "gens=experimentos(ELEMENTOS,3, 3)\n",
    "print(gens)\n",
    "datos=[['Generadores', 'Elementos minimales en el complemento', 'Cant. igualdades', 'Secuencia de grado', 'Grado maximal']]\n",
    "for gen in gens:\n",
    "    P=generar_poset(ELEMENTOS,3)\n",
    "    elem_min = encontrar_min(gen[0],P)\n",
    "    cono = generar_cono(ELEMENTOS, gen[0], elem_min)\n",
    "    cant_elementos, grado = calcular_grado(P, gen[0], ELEMENTOS)\n",
    "    datos.append([gen[0], elem_min, gen[1], grado,  grado in dict_grados[cant_elementos]])\n",
    "    \n",
    "tabla = table(datos, header_row=True)\n",
    "tabla"
   ]
  },
  {
   "cell_type": "markdown",
   "metadata": {},
   "source": [
    "Tabla con igualdades en poset vs matroide"
   ]
  },
  {
   "cell_type": "code",
   "execution_count": null,
   "metadata": {},
   "outputs": [],
   "source": []
  },
  {
   "cell_type": "markdown",
   "metadata": {},
   "source": [
    "Generar cono dados elementos, # conjuntos y generadores específicos"
   ]
  },
  {
   "cell_type": "code",
   "execution_count": 87,
   "metadata": {},
   "outputs": [
    {
     "name": "stdout",
     "output_type": "stream",
     "text": [
      "[(1, 4, 9), (2, 4, 8), (2, 5, 7)]\n"
     ]
    },
    {
     "data": {
      "text/plain": [
       "A 2-dimensional polyhedron in QQ^9 defined as the convex hull of 1 vertex, 1 ray, 1 line (use the .plot() method to plot)"
      ]
     },
     "execution_count": 87,
     "metadata": {},
     "output_type": "execute_result"
    }
   ],
   "source": [
    "#PARÁMETROS\n",
    "ELEMENTOS = 9\n",
    "CARD_CONJ = 3\n",
    "GENERADORES = [(3,4,7),(4,5,6),(2,3,9),(1,7,8)]\n",
    "\n",
    "P=generar_poset(ELEMENTOS,CARD_CONJ)\n",
    "elem_min = encontrar_min(GENERADORES,P)\n",
    "print(elem_min)\n",
    "cono = generar_cono(ELEMENTOS, GENERADORES, elem_min)\n",
    "cono"
   ]
  },
  {
   "cell_type": "markdown",
   "metadata": {},
   "source": [
    "Dados generadores específicos, evalúa en un elemento aleatorio del cono y cuenta igualdades"
   ]
  },
  {
   "cell_type": "code",
   "execution_count": 95,
   "metadata": {},
   "outputs": [
    {
     "name": "stdout",
     "output_type": "stream",
     "text": [
      "(-102, -51, -51, 0, 0, 0, 51, 51, 102)\n",
      "(A ray in the direction (-2, -1, -1, 0, 0, 0, 1, 1, 2),)\n",
      "0\n",
      "0\n",
      "0\n",
      "0\n",
      "----------\n",
      "0\n",
      "0\n",
      "0\n",
      "0\n",
      "***********\n",
      "4\n",
      "18\n",
      "18\n"
     ]
    },
    {
     "data": {
      "text/plain": [
       "70"
      ]
     },
     "execution_count": 95,
     "metadata": {},
     "output_type": "execute_result"
    }
   ],
   "source": [
    "from operator import countOf\n",
    "import random\n",
    "#PARÁMETROS\n",
    "ELEMENTOS = 9\n",
    "CARD_CONJ = 3\n",
    "GENERADORES = [(4,5,6),(2,4,7),(2,3,9),(1,7,8)]\n",
    "\n",
    "#EXPERIMENTO\n",
    "P=generar_poset(ELEMENTOS,CARD_CONJ)\n",
    "elem_min = encontrar_min(GENERADORES,P)\n",
    "cono = generar_cono(ELEMENTOS, GENERADORES, elem_min)\n",
    "elemento=sum([random.randint(0,100)*vector(rayo) for rayo in cono.rays()])\n",
    "# for i in range(ELEMENTOS):\n",
    "#     elemento.append(sum([random.randint(1,100)*rayo[i] for rayo in cono.rays()]))\n",
    "print(elemento)\n",
    "print(cono.rays())\n",
    "for gen in GENERADORES:\n",
    "    a=sum([elemento[i-1] for i in gen])\n",
    "    print(sum([elemento[i-1] for i in gen]))\n",
    "print('----------')\n",
    "for minimal in elem_min:\n",
    "    print(sum([elemento[i-1] for i in minimal]))\n",
    "print('***********')\n",
    "elemento_por_conjs = [sum([elemento[i-1] for i in conj]) for conj in P.order_ideal(GENERADORES)]\n",
    "print(countOf(elemento_por_conjs, a))\n",
    "elemento_por_conjs_todo = [sum([elemento[i-1] for i in conj]) for conj in P.list()]\n",
    "print(countOf(elemento_por_conjs_todo, a))\n",
    "gen_ideal_cont=[]\n",
    "for i in range(len(GENERADORES[0])):\n",
    "    e= max(t[i] for t in GENERADORES)\n",
    "    gen_ideal_cont.append(e)\n",
    "ideal_cont = P.order_ideal([tuple(gen_ideal_cont)])\n",
    "elemento_por_conjs_M = [sum([elemento[i-1] for i in conj]) for conj in ideal_cont]\n",
    "print(countOf(elemento_por_conjs_M, a))    \n",
    "\n",
    "len(P.order_ideal([(4,7,9)]))\n",
    "# revisar en los otros, revisar si son degree max, uniquely realizable\n",
    "# número de igualdades en todo el poset vs matroide\n",
    "# 11 vértices y caras de tamaño 4 (conjetura simon)"
   ]
  }
 ],
 "metadata": {
  "kernelspec": {
   "display_name": "SageMath 9.3",
   "language": "sage",
   "name": "sagemath"
  },
  "language_info": {
   "codemirror_mode": {
    "name": "ipython",
    "version": 3
   },
   "file_extension": ".py",
   "mimetype": "text/x-python",
   "name": "python",
   "nbconvert_exporter": "python",
   "pygments_lexer": "ipython3",
   "version": "3.7.10"
  }
 },
 "nbformat": 4,
 "nbformat_minor": 4
}
